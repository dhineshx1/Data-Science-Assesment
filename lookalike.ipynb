{
 "cells": [
  {
   "cell_type": "code",
   "execution_count": 2,
   "id": "ae76285c",
   "metadata": {},
   "outputs": [
    {
     "name": "stdout",
     "output_type": "stream",
     "text": [
      "  CustomerID                                         Lookalikes\n",
      "0      C0001  [(C0184, 0.9938610436936237), (C0192, 0.993439...\n",
      "1      C0002  [(C0134, 0.9888261684811294), (C0106, 0.983359...\n",
      "2      C0003  [(C0052, 0.9939611009462402), (C0031, 0.990825...\n",
      "3      C0004  [(C0169, 0.9917355195559103), (C0165, 0.991216...\n",
      "4      C0005  [(C0007, 0.9950379241347769), (C0140, 0.968600...\n",
      "5      C0006  [(C0126, 0.9887368103028111), (C0187, 0.985585...\n",
      "6      C0007  [(C0005, 0.9950379241347769), (C0140, 0.974502...\n",
      "7      C0008  [(C0189, 0.9807242348140186), (C0065, 0.969508...\n",
      "8      C0009  [(C0061, 0.9747244536021684), (C0062, 0.972511...\n",
      "9      C0010  [(C0062, 0.9921708629227519), (C0103, 0.971164...\n"
     ]
    }
   ],
   "source": [
    "import pandas as pd\n",
    "from sklearn.preprocessing import MinMaxScaler, OneHotEncoder\n",
    "from sklearn.neighbors import NearestNeighbors\n",
    "from datetime import datetime\n",
    "\n",
    "# Load datasets\n",
    "customers = pd.read_csv('dataset/Customers.csv')\n",
    "products = pd.read_csv('dataset/Products.csv')\n",
    "transactions = pd.read_csv('dataset/Transactions.csv')\n",
    "\n",
    "# Merge datasets\n",
    "# Step 1: Merge transactions with customers on CustomerID\n",
    "data = pd.merge(transactions, customers, on='CustomerID')\n",
    "\n",
    "# Step 2: Merge the result with products on ProductID\n",
    "data = pd.merge(data, products, on='ProductID')\n",
    "\n",
    "# Handle duplicate column names after merge\n",
    "# Rename Price_x to Price and drop Price_y\n",
    "data.rename(columns={\"Price_x\": \"Price\"}, inplace=True)\n",
    "data.drop(columns=[\"Price_y\"], inplace=True)\n",
    "\n",
    "# Feature Engineering\n",
    "# 1. Customer tenure (days since signup)\n",
    "data['SignupDate'] = pd.to_datetime(data['SignupDate'])\n",
    "data['Tenure'] = (datetime.now() - data['SignupDate']).dt.days\n",
    "\n",
    "# 2. Aggregate transaction data for customer-level features\n",
    "customer_features = data.groupby('CustomerID').agg({\n",
    "    'Tenure': 'first',  # Tenure is the same for all rows of a customer\n",
    "    'Region': 'first',  # Region is the same for all rows of a customer\n",
    "    'TotalValue': ['sum', 'mean'],  # Total and average spending\n",
    "    'Quantity': 'sum',  # Total quantity purchased\n",
    "    'Category': lambda x: x.mode()[0],  # Most frequent category\n",
    "    'Price': 'mean'  # Average product price\n",
    "}).reset_index()\n",
    "\n",
    "# Flatten multi-index columns\n",
    "customer_features.columns = [\n",
    "    'CustomerID', 'Tenure', 'Region', \n",
    "    'TotalSpending', 'AvgSpending', \n",
    "    'TotalQuantity', 'FavoriteCategory', \n",
    "    'AvgProductPrice'\n",
    "]\n",
    "\n",
    "# 3. Encode categorical variables (Region and FavoriteCategory)\n",
    "encoder = OneHotEncoder(drop='first', sparse_output=False)  # Use dense output\n",
    "encoded_features = encoder.fit_transform(customer_features[['Region', 'FavoriteCategory']])\n",
    "\n",
    "# Get feature names for encoded columns\n",
    "encoded_columns = encoder.get_feature_names_out(['Region', 'FavoriteCategory'])\n",
    "\n",
    "# Create DataFrame for encoded features\n",
    "encoded_df = pd.DataFrame(encoded_features, columns=encoded_columns)\n",
    "\n",
    "# Combine encoded features with numerical features\n",
    "customer_features_final = pd.concat([customer_features.drop(['Region', 'FavoriteCategory'], axis=1), encoded_df], axis=1)\n",
    "\n",
    "# 4. Normalize numerical features\n",
    "scaler = MinMaxScaler()\n",
    "customer_features_scaled = scaler.fit_transform(customer_features_final.iloc[:, 1:])\n",
    "\n",
    "# Train KNN Model\n",
    "knn_model = NearestNeighbors(metric='cosine', n_neighbors=4)  # 4 because we exclude the customer itself\n",
    "clusters = knn_model.fit(customer_features_scaled)\n",
    "\n",
    "# Lookalike Recommendations\n",
    "lookalikes = {}\n",
    "for i, cust_id in enumerate(customer_features_final['CustomerID']):\n",
    "    if cust_id in [f'C{str(i).zfill(4)}' for i in range(1, 21)]:  # Only for C0001 to C0020\n",
    "        distances, indices = knn_model.kneighbors([customer_features_scaled[i]])\n",
    "        similar_customers = [(customer_features_final['CustomerID'][j], 1 - distances[0][k])  # Convert distance to similarity\n",
    "                             for k, j in enumerate(indices[0]) if j != i][:3]  # Exclude self and take top 3\n",
    "        lookalikes[cust_id] = similar_customers\n",
    "\n",
    "# Save to CSV\n",
    "lookalike_df = pd.DataFrame(lookalikes.items(), columns=['CustomerID', 'Lookalikes'])\n",
    "lookalike_df.to_csv('Lookalike.csv', index=False)\n",
    "\n",
    "# Print results\n",
    "print(lookalike_df[:10])"
   ]
  },
  {
   "cell_type": "code",
   "execution_count": 3,
   "id": "a63d8c37",
   "metadata": {},
   "outputs": [
    {
     "ename": "InvalidParameterError",
     "evalue": "The 'labels' parameter of davies_bouldin_score must be an array-like. Got NearestNeighbors(metric='cosine', n_neighbors=4) instead.",
     "output_type": "error",
     "traceback": [
      "\u001b[1;31m---------------------------------------------------------------------------\u001b[0m",
      "\u001b[1;31mInvalidParameterError\u001b[0m                     Traceback (most recent call last)",
      "Cell \u001b[1;32mIn[3], line 4\u001b[0m\n\u001b[0;32m      1\u001b[0m \u001b[38;5;28;01mfrom\u001b[39;00m \u001b[38;5;21;01msklearn\u001b[39;00m\u001b[38;5;21;01m.\u001b[39;00m\u001b[38;5;21;01mcluster\u001b[39;00m \u001b[38;5;28;01mimport\u001b[39;00m KMeans\n\u001b[0;32m      2\u001b[0m \u001b[38;5;28;01mfrom\u001b[39;00m \u001b[38;5;21;01msklearn\u001b[39;00m\u001b[38;5;21;01m.\u001b[39;00m\u001b[38;5;21;01mmetrics\u001b[39;00m \u001b[38;5;28;01mimport\u001b[39;00m davies_bouldin_score, silhouette_score\n\u001b[1;32m----> 4\u001b[0m db_index \u001b[38;5;241m=\u001b[39m \u001b[43mdavies_bouldin_score\u001b[49m\u001b[43m(\u001b[49m\u001b[43mcustomer_features_scaled\u001b[49m\u001b[43m,\u001b[49m\u001b[43m \u001b[49m\u001b[43mclusters\u001b[49m\u001b[43m)\u001b[49m\n\u001b[0;32m      5\u001b[0m \u001b[38;5;28mprint\u001b[39m(\u001b[38;5;124mf\u001b[39m\u001b[38;5;124m\"\u001b[39m\u001b[38;5;124mDavies-Bouldin Index: \u001b[39m\u001b[38;5;132;01m{\u001b[39;00mdb_index\u001b[38;5;132;01m}\u001b[39;00m\u001b[38;5;124m\"\u001b[39m)\n\u001b[0;32m      7\u001b[0m \u001b[38;5;66;03m# Step 3: Calculate Silhouette Score\u001b[39;00m\n",
      "File \u001b[1;32m~\\anaconda3\\lib\\site-packages\\sklearn\\utils\\_param_validation.py:206\u001b[0m, in \u001b[0;36mvalidate_params.<locals>.decorator.<locals>.wrapper\u001b[1;34m(*args, **kwargs)\u001b[0m\n\u001b[0;32m    203\u001b[0m to_ignore \u001b[38;5;241m+\u001b[39m\u001b[38;5;241m=\u001b[39m [\u001b[38;5;124m\"\u001b[39m\u001b[38;5;124mself\u001b[39m\u001b[38;5;124m\"\u001b[39m, \u001b[38;5;124m\"\u001b[39m\u001b[38;5;124mcls\u001b[39m\u001b[38;5;124m\"\u001b[39m]\n\u001b[0;32m    204\u001b[0m params \u001b[38;5;241m=\u001b[39m {k: v \u001b[38;5;28;01mfor\u001b[39;00m k, v \u001b[38;5;129;01min\u001b[39;00m params\u001b[38;5;241m.\u001b[39marguments\u001b[38;5;241m.\u001b[39mitems() \u001b[38;5;28;01mif\u001b[39;00m k \u001b[38;5;129;01mnot\u001b[39;00m \u001b[38;5;129;01min\u001b[39;00m to_ignore}\n\u001b[1;32m--> 206\u001b[0m \u001b[43mvalidate_parameter_constraints\u001b[49m\u001b[43m(\u001b[49m\n\u001b[0;32m    207\u001b[0m \u001b[43m    \u001b[49m\u001b[43mparameter_constraints\u001b[49m\u001b[43m,\u001b[49m\u001b[43m \u001b[49m\u001b[43mparams\u001b[49m\u001b[43m,\u001b[49m\u001b[43m \u001b[49m\u001b[43mcaller_name\u001b[49m\u001b[38;5;241;43m=\u001b[39;49m\u001b[43mfunc\u001b[49m\u001b[38;5;241;43m.\u001b[39;49m\u001b[38;5;18;43m__qualname__\u001b[39;49m\n\u001b[0;32m    208\u001b[0m \u001b[43m\u001b[49m\u001b[43m)\u001b[49m\n\u001b[0;32m    210\u001b[0m \u001b[38;5;28;01mtry\u001b[39;00m:\n\u001b[0;32m    211\u001b[0m     \u001b[38;5;28;01mwith\u001b[39;00m config_context(\n\u001b[0;32m    212\u001b[0m         skip_parameter_validation\u001b[38;5;241m=\u001b[39m(\n\u001b[0;32m    213\u001b[0m             prefer_skip_nested_validation \u001b[38;5;129;01mor\u001b[39;00m global_skip_validation\n\u001b[0;32m    214\u001b[0m         )\n\u001b[0;32m    215\u001b[0m     ):\n",
      "File \u001b[1;32m~\\anaconda3\\lib\\site-packages\\sklearn\\utils\\_param_validation.py:98\u001b[0m, in \u001b[0;36mvalidate_parameter_constraints\u001b[1;34m(parameter_constraints, params, caller_name)\u001b[0m\n\u001b[0;32m     92\u001b[0m \u001b[38;5;28;01melse\u001b[39;00m:\n\u001b[0;32m     93\u001b[0m     constraints_str \u001b[38;5;241m=\u001b[39m (\n\u001b[0;32m     94\u001b[0m         \u001b[38;5;124mf\u001b[39m\u001b[38;5;124m\"\u001b[39m\u001b[38;5;132;01m{\u001b[39;00m\u001b[38;5;124m'\u001b[39m\u001b[38;5;124m, \u001b[39m\u001b[38;5;124m'\u001b[39m\u001b[38;5;241m.\u001b[39mjoin([\u001b[38;5;28mstr\u001b[39m(c)\u001b[38;5;250m \u001b[39m\u001b[38;5;28;01mfor\u001b[39;00m\u001b[38;5;250m \u001b[39mc\u001b[38;5;250m \u001b[39m\u001b[38;5;129;01min\u001b[39;00m\u001b[38;5;250m \u001b[39mconstraints[:\u001b[38;5;241m-\u001b[39m\u001b[38;5;241m1\u001b[39m]])\u001b[38;5;132;01m}\u001b[39;00m\u001b[38;5;124m or\u001b[39m\u001b[38;5;124m\"\u001b[39m\n\u001b[0;32m     95\u001b[0m         \u001b[38;5;124mf\u001b[39m\u001b[38;5;124m\"\u001b[39m\u001b[38;5;124m \u001b[39m\u001b[38;5;132;01m{\u001b[39;00mconstraints[\u001b[38;5;241m-\u001b[39m\u001b[38;5;241m1\u001b[39m]\u001b[38;5;132;01m}\u001b[39;00m\u001b[38;5;124m\"\u001b[39m\n\u001b[0;32m     96\u001b[0m     )\n\u001b[1;32m---> 98\u001b[0m \u001b[38;5;28;01mraise\u001b[39;00m InvalidParameterError(\n\u001b[0;32m     99\u001b[0m     \u001b[38;5;124mf\u001b[39m\u001b[38;5;124m\"\u001b[39m\u001b[38;5;124mThe \u001b[39m\u001b[38;5;132;01m{\u001b[39;00mparam_name\u001b[38;5;132;01m!r}\u001b[39;00m\u001b[38;5;124m parameter of \u001b[39m\u001b[38;5;132;01m{\u001b[39;00mcaller_name\u001b[38;5;132;01m}\u001b[39;00m\u001b[38;5;124m must be\u001b[39m\u001b[38;5;124m\"\u001b[39m\n\u001b[0;32m    100\u001b[0m     \u001b[38;5;124mf\u001b[39m\u001b[38;5;124m\"\u001b[39m\u001b[38;5;124m \u001b[39m\u001b[38;5;132;01m{\u001b[39;00mconstraints_str\u001b[38;5;132;01m}\u001b[39;00m\u001b[38;5;124m. Got \u001b[39m\u001b[38;5;132;01m{\u001b[39;00mparam_val\u001b[38;5;132;01m!r}\u001b[39;00m\u001b[38;5;124m instead.\u001b[39m\u001b[38;5;124m\"\u001b[39m\n\u001b[0;32m    101\u001b[0m )\n",
      "\u001b[1;31mInvalidParameterError\u001b[0m: The 'labels' parameter of davies_bouldin_score must be an array-like. Got NearestNeighbors(metric='cosine', n_neighbors=4) instead."
     ]
    }
   ],
   "source": [
    "from sklearn.cluster import KMeans\n",
    "from sklearn.metrics import davies_bouldin_score, silhouette_score\n",
    "\n",
    "db_index = davies_bouldin_score(customer_features_scaled, clusters)\n",
    "print(f\"Davies-Bouldin Index: {db_index}\")\n",
    "\n",
    "# Step 3: Calculate Silhouette Score\n",
    "silhouette_avg = silhouette_score(customer_features_scaled, clusters)\n",
    "print(f\"Silhouette Score: {silhouette_avg}\")"
   ]
  },
  {
   "cell_type": "code",
   "execution_count": null,
   "id": "b0ef6406",
   "metadata": {},
   "outputs": [],
   "source": []
  }
 ],
 "metadata": {
  "kernelspec": {
   "display_name": "Python 3 (ipykernel)",
   "language": "python",
   "name": "python3"
  },
  "language_info": {
   "codemirror_mode": {
    "name": "ipython",
    "version": 3
   },
   "file_extension": ".py",
   "mimetype": "text/x-python",
   "name": "python",
   "nbconvert_exporter": "python",
   "pygments_lexer": "ipython3",
   "version": "3.10.9"
  }
 },
 "nbformat": 4,
 "nbformat_minor": 5
}
